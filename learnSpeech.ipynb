{
 "cells": [
  {
   "cell_type": "code",
   "execution_count": 38,
   "metadata": {},
   "outputs": [],
   "source": [
    "import warnings\n",
    "warnings.filterwarnings('ignore')\n",
    "\n",
    "from os import listdir\n",
    "from os.path import isfile, join\n",
    "import pickle\n",
    "\n",
    "from hmmlearn import hmm\n",
    "\n",
    "from python_speech_features import mfcc\n",
    "import scipy.io.wavfile as wav\n",
    "import matplotlib.pyplot as plot\n",
    "import numpy\n",
    "\n",
    "from sklearn.model_selection import train_test_split"
   ]
  },
  {
   "cell_type": "code",
   "execution_count": 39,
   "metadata": {},
   "outputs": [
    {
     "name": "stdout",
     "output_type": "stream",
     "text": [
      "['dog', 'left', 'seven', 'sheila']\n"
     ]
    }
   ],
   "source": [
    "ghmms = {}\n",
    "data = {}\n",
    "datadirs = [f for f in listdir(\"data/\") if ('.' not in f)]\n",
    "print(datadirs)"
   ]
  },
  {
   "cell_type": "code",
   "execution_count": 40,
   "metadata": {},
   "outputs": [
    {
     "name": "stdout",
     "output_type": "stream",
     "text": [
      "dog 1746 1222 524\n",
      "left 2353 1647 706\n",
      "seven 2377 1663 714\n",
      "sheila 1734 1213 521\n"
     ]
    }
   ],
   "source": [
    "for directory in datadirs:\n",
    "    curdir = \"data/\" + directory\n",
    "    datafiles = [f for f in listdir(curdir) if isfile(join(curdir,f))]\n",
    "\n",
    "    dataForWord = []\n",
    "    for f in datafiles:\n",
    "        (rate, signal) = wav.read(curdir + \"/\" + f)\n",
    "        dataForWord.append(mfcc(signal, rate, winfunc=numpy.hamming))\n",
    "    \n",
    "    train, test = train_test_split(dataForWord, test_size=0.3)\n",
    "    data[directory] = {'train': train, 'test': test}\n",
    "    print(directory, len(datafiles), len(data[directory]['train']), len(data[directory]['test']))\n"
   ]
  },
  {
   "cell_type": "code",
   "execution_count": 41,
   "metadata": {},
   "outputs": [
    {
     "name": "stdout",
     "output_type": "stream",
     "text": [
      "dog (118913, 13) 118913\n",
      "left (161159, 13) 161159\n",
      "seven (162509, 13) 162509\n",
      "sheila (118688, 13) 118688\n"
     ]
    }
   ],
   "source": [
    "flatData = {}\n",
    "lengths = {}\n",
    "for directory in datadirs:\n",
    "    flatDataForWord = []\n",
    "    runLengthsForWord = []\n",
    "    for fileData in data[directory]['train']:\n",
    "        runLengthsForWord.append(len(fileData))\n",
    "        flatDataForWord += fileData.flatten().tolist()\n",
    "            \n",
    "    flatData[directory] = numpy.array(flatDataForWord).reshape(-1, 13)\n",
    "    lengths[directory] = runLengthsForWord\n",
    "    print(directory, flatData[directory].shape, sum(lengths[directory]))"
   ]
  },
  {
   "cell_type": "code",
   "execution_count": 42,
   "metadata": {},
   "outputs": [
    {
     "name": "stdout",
     "output_type": "stream",
     "text": [
      "(118913, 13)\n",
      "(161159, 13)\n",
      "(162509, 13)\n",
      "(118688, 13)\n"
     ]
    }
   ],
   "source": [
    "for directory in datadirs:\n",
    "    print(flatData[directory].shape)\n",
    "    ghmm = hmm.GaussianHMM(n_components=7)\n",
    "    ghmm.fit(flatData[directory], lengths=lengths[directory])\n",
    "    ghmms[directory] = ghmm"
   ]
  },
  {
   "cell_type": "code",
   "execution_count": 43,
   "metadata": {},
   "outputs": [],
   "source": [
    "pickle.dump(ghmms, open(\"hmmset.p\", \"wb\"))"
   ]
  },
  {
   "cell_type": "code",
   "execution_count": 51,
   "metadata": {},
   "outputs": [],
   "source": [
    "def predict(fileData):\n",
    "    logOddsToKey = {}\n",
    "    for key in ghmms:\n",
    "        ghmm = ghmms[key]\n",
    "        logOdds = ghmms[key].score_samples(fileData)[0]\n",
    "        logOddsToKey[logOdds] = key\n",
    "    return logOddsToKey[max(logOddsToKey.keys())]"
   ]
  },
  {
   "cell_type": "code",
   "execution_count": 45,
   "metadata": {},
   "outputs": [],
   "source": [
    "labeledTestData = []\n",
    "for key in data:\n",
    "    for fileData in data[key]['test']:\n",
    "        labeledTestData.append((fileData, key))"
   ]
  },
  {
   "cell_type": "code",
   "execution_count": 46,
   "metadata": {},
   "outputs": [],
   "source": [
    "successful = 0\n",
    "for test in labeledTestData:\n",
    "    prediction = predict(test[0])\n",
    "    if prediction == test[1]:\n",
    "        successful += 1"
   ]
  },
  {
   "cell_type": "code",
   "execution_count": 47,
   "metadata": {},
   "outputs": [
    {
     "name": "stdout",
     "output_type": "stream",
     "text": [
      "# data points: 2465\n",
      "success rate: 0.8081135902636917\n"
     ]
    }
   ],
   "source": [
    "print('# data points:', len(labeledTestData))\n",
    "print('success rate:', float(successful) / len(labeledTestData) )"
   ]
  },
  {
   "cell_type": "code",
   "execution_count": 52,
   "metadata": {},
   "outputs": [
    {
     "name": "stdout",
     "output_type": "stream",
     "text": [
      "[ 10.62156486 -10.50005401 -21.53243413  -6.26368371   7.66470925\n",
      "  -2.74448373   1.94527387  11.52021881  -8.6896683  -12.0482188\n",
      "   0.9109049    4.34333176   4.87513094]\n"
     ]
    }
   ],
   "source": [
    "(rate, signal) = wav.read('kim-shiela.wav')\n",
    "features = mfcc(signal, rate, winfunc=numpy.hamming)\n",
    "print(features[0])"
   ]
  },
  {
   "cell_type": "code",
   "execution_count": 53,
   "metadata": {},
   "outputs": [
    {
     "name": "stdout",
     "output_type": "stream",
     "text": [
      "dog\n",
      "-3876.36464388\n",
      "left\n",
      "-3734.57576592\n",
      "seven\n",
      "-3691.87356977\n",
      "sheila\n",
      "-3723.60394865\n",
      "seven\n"
     ]
    }
   ],
   "source": [
    "print(predict(features))"
   ]
  },
  {
   "cell_type": "code",
   "execution_count": null,
   "metadata": {},
   "outputs": [],
   "source": []
  }
 ],
 "metadata": {
  "kernelspec": {
   "display_name": "Python 3",
   "language": "python",
   "name": "python3"
  },
  "language_info": {
   "codemirror_mode": {
    "name": "ipython",
    "version": 3
   },
   "file_extension": ".py",
   "mimetype": "text/x-python",
   "name": "python",
   "nbconvert_exporter": "python",
   "pygments_lexer": "ipython3",
   "version": "3.6.0"
  }
 },
 "nbformat": 4,
 "nbformat_minor": 2
}
