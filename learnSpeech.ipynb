{
 "cells": [
  {
   "cell_type": "code",
   "execution_count": null,
   "metadata": {},
   "outputs": [],
   "source": [
    "import warnings\n",
    "warnings.filterwarnings('ignore')\n",
    "\n",
    "from os import listdir\n",
    "from os.path import isfile, join\n",
    "import pickle\n",
    "\n",
    "from hmmlearn import hmm\n",
    "\n",
    "from python_speech_features import mfcc\n",
    "import scipy.io.wavfile as wav\n",
    "import matplotlib.pyplot as plot\n",
    "import numpy\n",
    "\n",
    "from sklearn.model_selection import train_test_split"
   ]
  },
  {
   "cell_type": "markdown",
   "metadata": {},
   "source": [
    "# Get the tagged data directories"
   ]
  },
  {
   "cell_type": "code",
   "execution_count": null,
   "metadata": {},
   "outputs": [],
   "source": [
    "ghmms = {}\n",
    "data = {}\n",
    "datadirs = [f for f in listdir(\"data/\") if ('.' not in f)]\n",
    "print(datadirs)"
   ]
  },
  {
   "cell_type": "markdown",
   "metadata": {},
   "source": [
    "# Preprocess data to get MFCCs for each data file. Then split data into test and training set."
   ]
  },
  {
   "cell_type": "code",
   "execution_count": null,
   "metadata": {},
   "outputs": [],
   "source": [
    "for directory in datadirs:\n",
    "    curdir = \"data/\" + directory\n",
    "    datafiles = [f for f in listdir(curdir) if isfile(join(curdir,f))]\n",
    "\n",
    "    dataForWord = []\n",
    "    for f in datafiles:\n",
    "        (rate, signal) = wav.read(curdir + \"/\" + f)\n",
    "        dataForWord.append(mfcc(signal, rate, winfunc=numpy.hamming))\n",
    "    \n",
    "    train, test = train_test_split(dataForWord, test_size=0.3)\n",
    "    data[directory] = {'train': train, 'test': test}\n",
    "    print(directory, len(datafiles), len(data[directory]['train']), len(data[directory]['test']))\n"
   ]
  },
  {
   "cell_type": "markdown",
   "metadata": {},
   "source": [
    "# Reshape data in a way that is amenable to HMMLearn"
   ]
  },
  {
   "cell_type": "code",
   "execution_count": null,
   "metadata": {},
   "outputs": [],
   "source": [
    "flatData = {}\n",
    "lengths = {}\n",
    "for directory in datadirs:\n",
    "    flatDataForWord = []\n",
    "    runLengthsForWord = []\n",
    "    for fileData in data[directory]['train']:\n",
    "        runLengthsForWord.append(len(fileData))\n",
    "        flatDataForWord += fileData.flatten().tolist()\n",
    "            \n",
    "    flatData[directory] = numpy.array(flatDataForWord).reshape(-1, 13)\n",
    "    lengths[directory] = runLengthsForWord\n",
    "    print(directory, flatData[directory].shape, sum(lengths[directory]))"
   ]
  },
  {
   "cell_type": "markdown",
   "metadata": {},
   "source": [
    "# Train a word model with each training set that corresponds to a single word"
   ]
  },
  {
   "cell_type": "code",
   "execution_count": null,
   "metadata": {},
   "outputs": [],
   "source": [
    "for directory in datadirs:\n",
    "    print(flatData[directory].shape)\n",
    "    ghmm = hmm.GMMHMM(n_mix=2, n_components=2, n_iter=10)\n",
    "    ghmm.fit(flatData[directory], lengths=lengths[directory])\n",
    "    ghmms[directory] = ghmm"
   ]
  },
  {
   "cell_type": "markdown",
   "metadata": {},
   "source": [
    "# Output trained gmmhmms as a pickle file for later prediction"
   ]
  },
  {
   "cell_type": "markdown",
   "metadata": {},
   "source": [
    "pickle.dump(ghmms, open(\"hmmset.p\", \"wb\"))"
   ]
  },
  {
   "cell_type": "code",
   "execution_count": null,
   "metadata": {},
   "outputs": [],
   "source": [
    "def predict(fileData):\n",
    "    logOddsToKey = {}\n",
    "    for key in ghmms:\n",
    "        ghmm = ghmms[key]\n",
    "        logOdds = ghmms[key].score_samples(fileData)[0]\n",
    "        logOddsToKey[logOdds] = key\n",
    "    return logOddsToKey[max(logOddsToKey.keys())]"
   ]
  },
  {
   "cell_type": "markdown",
   "metadata": {},
   "source": [
    "# Label the training data"
   ]
  },
  {
   "cell_type": "code",
   "execution_count": null,
   "metadata": {},
   "outputs": [],
   "source": [
    "labeledTestData = []\n",
    "for key in data:\n",
    "    for fileData in data[key]['test']:\n",
    "        labeledTestData.append((fileData, key))"
   ]
  },
  {
   "cell_type": "markdown",
   "metadata": {},
   "source": [
    "# Predict word for training data"
   ]
  },
  {
   "cell_type": "code",
   "execution_count": null,
   "metadata": {},
   "outputs": [],
   "source": [
    "successful = 0\n",
    "for test in labeledTestData:\n",
    "    prediction = predict(test[0])\n",
    "    if prediction == test[1]:\n",
    "        successful += 1"
   ]
  },
  {
   "cell_type": "markdown",
   "metadata": {},
   "source": [
    "# Score training performance"
   ]
  },
  {
   "cell_type": "code",
   "execution_count": null,
   "metadata": {},
   "outputs": [],
   "source": [
    "print('# data points:', len(labeledTestData))\n",
    "print('success rate:', float(successful) / len(labeledTestData) )"
   ]
  },
  {
   "cell_type": "code",
   "execution_count": null,
   "metadata": {},
   "outputs": [],
   "source": []
  },
  {
   "cell_type": "code",
   "execution_count": null,
   "metadata": {},
   "outputs": [],
   "source": []
  },
  {
   "cell_type": "code",
   "execution_count": null,
   "metadata": {},
   "outputs": [],
   "source": []
  }
 ],
 "metadata": {
  "kernelspec": {
   "display_name": "Python 3",
   "language": "python",
   "name": "python3"
  },
  "language_info": {
   "codemirror_mode": {
    "name": "ipython",
    "version": 3
   },
   "file_extension": ".py",
   "mimetype": "text/x-python",
   "name": "python",
   "nbconvert_exporter": "python",
   "pygments_lexer": "ipython3",
   "version": "3.6.3"
  }
 },
 "nbformat": 4,
 "nbformat_minor": 2
}
