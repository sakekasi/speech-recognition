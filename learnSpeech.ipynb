{
 "cells": [
  {
   "cell_type": "code",
   "execution_count": 137,
   "metadata": {},
   "outputs": [],
   "source": [
    "import warnings\n",
    "warnings.filterwarnings('ignore')\n",
    "\n",
    "from os import listdir\n",
    "from os.path import isfile, join\n",
    "import pickle\n",
    "\n",
    "from hmmlearn import hmm\n",
    "\n",
    "from python_speech_features import mfcc\n",
    "import scipy.io.wavfile as wav\n",
    "import matplotlib.pyplot as plot\n",
    "import numpy\n",
    "\n",
    "from sklearn.model_selection import train_test_split"
   ]
  },
  {
   "cell_type": "code",
   "execution_count": 138,
   "metadata": {},
   "outputs": [
    {
     "name": "stdout",
     "output_type": "stream",
     "text": [
      "['dog', 'left', 'sheila', 'seven']\n"
     ]
    }
   ],
   "source": [
    "ghmms = {}\n",
    "data = {}\n",
    "datadirs = [f for f in listdir(\"data/\") if ('.' not in f)]\n",
    "print(datadirs)"
   ]
  },
  {
   "cell_type": "code",
   "execution_count": 139,
   "metadata": {},
   "outputs": [
    {
     "name": "stdout",
     "output_type": "stream",
     "text": [
      "dog 1746 1222 524\n",
      "left 2353 1647 706\n",
      "sheila 1734 1213 521\n",
      "seven 2377 1663 714\n"
     ]
    }
   ],
   "source": [
    "for directory in datadirs:\n",
    "    curdir = \"data/\" + directory\n",
    "    datafiles = [f for f in listdir(curdir) if isfile(join(curdir,f))]\n",
    "\n",
    "    dataForWord = []\n",
    "    for f in datafiles:\n",
    "        (rate, signal) = wav.read(curdir + \"/\" + f)\n",
    "        dataForWord.append(mfcc(signal, rate, winfunc=numpy.hamming))\n",
    "    \n",
    "    train, test = train_test_split(dataForWord, test_size=0.3)\n",
    "    data[directory] = {'train': train, 'test': test}\n",
    "    print(directory, len(datafiles), len(data[directory]['train']), len(data[directory]['test']))\n"
   ]
  },
  {
   "cell_type": "code",
   "execution_count": 140,
   "metadata": {},
   "outputs": [
    {
     "name": "stdout",
     "output_type": "stream",
     "text": [
      "dog (118788, 13) 118788\n",
      "left (161256, 13) 161256\n",
      "sheila (118636, 13) 118636\n",
      "seven (162460, 13) 162460\n"
     ]
    }
   ],
   "source": [
    "flatData = {}\n",
    "lengths = {}\n",
    "for directory in datadirs:\n",
    "    flatDataForWord = []\n",
    "    runLengthsForWord = []\n",
    "    for fileData in data[directory]['train']:\n",
    "        runLengthsForWord.append(len(fileData))\n",
    "        flatDataForWord += fileData.flatten().tolist()\n",
    "            \n",
    "    flatData[directory] = numpy.array(flatDataForWord).reshape(-1, 13)\n",
    "    lengths[directory] = runLengthsForWord\n",
    "    print(directory, flatData[directory].shape, sum(lengths[directory]))"
   ]
  },
  {
   "cell_type": "code",
   "execution_count": 141,
   "metadata": {},
   "outputs": [
    {
     "name": "stdout",
     "output_type": "stream",
     "text": [
      "(118788, 13)\n",
      "(161256, 13)\n",
      "(118636, 13)\n",
      "(162460, 13)\n"
     ]
    }
   ],
   "source": [
    "for directory in datadirs:\n",
    "    print(flatData[directory].shape)\n",
    "    ghmm = hmm.GaussianHMM(n_components=7)\n",
    "    ghmm.fit(flatData[directory], lengths=lengths[directory])\n",
    "    ghmms[directory] = ghmm"
   ]
  },
  {
   "cell_type": "code",
   "execution_count": 142,
   "metadata": {},
   "outputs": [],
   "source": [
    "pickle.dump(ghmms, open(\"hmmset.p\", \"wb\"))"
   ]
  },
  {
   "cell_type": "code",
   "execution_count": 143,
   "metadata": {},
   "outputs": [],
   "source": [
    "def predict(fileData):\n",
    "    logOddsToKey = {}\n",
    "    for key in ghmms:\n",
    "        ghmm = ghmms[key]\n",
    "        logOdds = ghmms[key].score_samples(fileData)[0]\n",
    "        logOddsToKey[logOdds] = key\n",
    "    return logOddsToKey[max(logOddsToKey.keys())]"
   ]
  },
  {
   "cell_type": "code",
   "execution_count": 144,
   "metadata": {},
   "outputs": [],
   "source": [
    "labeledTestData = []\n",
    "for key in data:\n",
    "    for fileData in data[key]['test']:\n",
    "        labeledTestData.append((fileData, key))"
   ]
  },
  {
   "cell_type": "code",
   "execution_count": 145,
   "metadata": {},
   "outputs": [],
   "source": [
    "successful = 0\n",
    "for test in labeledTestData:\n",
    "    prediction = predict(test[0])\n",
    "    if prediction == test[1]:\n",
    "        successful += 1"
   ]
  },
  {
   "cell_type": "code",
   "execution_count": 146,
   "metadata": {},
   "outputs": [
    {
     "name": "stdout",
     "output_type": "stream",
     "text": [
      "# data points: 2465\n",
      "success rate: 0.8356997971602435\n"
     ]
    }
   ],
   "source": [
    "print('# data points:', len(labeledTestData))\n",
    "print('success rate:', float(successful) / len(labeledTestData) )"
   ]
  },
  {
   "cell_type": "code",
   "execution_count": 147,
   "metadata": {},
   "outputs": [
    {
     "name": "stdout",
     "output_type": "stream",
     "text": [
      "[ 16.66124922 -47.84035587  29.44517202 -16.87728624   0.07080559\n",
      "   7.37416151 -18.61087704  -2.4980464  -23.90755594 -18.89497544\n",
      "  19.90086434  -2.77875535  -7.35379118]\n"
     ]
    }
   ],
   "source": [
    "(rate, signal) = wav.read('brett-seven.wav')\n",
    "features = mfcc(signal, rate, winfunc=numpy.hamming)\n",
    "print(features[0])"
   ]
  },
  {
   "cell_type": "code",
   "execution_count": 148,
   "metadata": {},
   "outputs": [
    {
     "name": "stdout",
     "output_type": "stream",
     "text": [
      "seven\n"
     ]
    }
   ],
   "source": [
    "print(predict(features))"
   ]
  }
 ],
 "metadata": {
  "kernelspec": {
   "display_name": "Python 3",
   "language": "python",
   "name": "python3"
  },
  "language_info": {
   "codemirror_mode": {
    "name": "ipython",
    "version": 3
   },
   "file_extension": ".py",
   "mimetype": "text/x-python",
   "name": "python",
   "nbconvert_exporter": "python",
   "pygments_lexer": "ipython3",
   "version": "3.6.0"
  }
 },
 "nbformat": 4,
 "nbformat_minor": 2
}
