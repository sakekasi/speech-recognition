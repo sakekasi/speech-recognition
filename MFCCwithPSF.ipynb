{
 "cells": [
  {
   "cell_type": "code",
   "execution_count": 1,
   "metadata": {},
   "outputs": [],
   "source": [
    "from python_speech_features import mfcc\n",
    "import scipy.io.wavfile as wav\n",
    "import matplotlib.pyplot as plot\n",
    "import numpy"
   ]
  },
  {
   "cell_type": "code",
   "execution_count": 7,
   "metadata": {},
   "outputs": [
    {
     "name": "stdout",
     "output_type": "stream",
     "text": [
      "(array([ 12.15509831, -18.19799439,   0.54953312,  -3.36955608,\n",
      "        -6.02007586,  -3.2945493 ,  -3.69941743,  -7.53534023,\n",
      "        -9.04859076,   4.60839395,  -4.05250974,   0.56736148,  -2.58393   ]), 1e-08)\n",
      "[  6.37226094 -11.0777117    9.45732004  -0.02279037   9.92803455\n",
      "  10.83257299  -3.34744981 -11.89943257  -6.87904154 -12.11968593\n",
      "   0.06833451  -2.56195962 -17.01649493]\n",
      "[ -5.78283737   7.12028269   8.90778692   3.34676572  15.94811041\n",
      "  14.12712229   0.35196762  -4.36409233   2.16954922 -16.72807988\n",
      "   4.12084425  -3.1293211  -14.43256492]\n"
     ]
    }
   ],
   "source": [
    "(rate, signal) = wav.read(\"data/left/ffd2ba2f_nohash_4.wav\")\n",
    "mfcc_features = mfcc(signal, rate, winfunc=numpy.hamming) # Create the MFCC features\n",
    "\n",
    "mean_features = (numpy.mean(mfcc_features, axis=0), + 1e-8)\n",
    "n_mfcc_features = list(map((lambda f : numpy.subtract(f, mean_features[0])), mfcc_features))\n",
    "\n",
    "\n",
    "print(mean_features)\n",
    "print(mfcc_features[0])\n",
    "print(n_mfcc_features[0])"
   ]
  },
  {
   "cell_type": "code",
   "execution_count": 13,
   "metadata": {},
   "outputs": [
    {
     "data": {
      "image/png": "[encoded data removed]",
      "text/plain": [
       "<matplotlib.figure.Figure at 0x10ca4ba90>"
      ]
     },
     "metadata": {},
     "output_type": "display_data"
    }
   ],
   "source": [
    "plot.plot(n_mfcc_features[5])\n",
    "plot.show()"
   ]
  },
  {
   "cell_type": "code",
   "execution_count": null,
   "metadata": {},
   "outputs": [],
   "source": []
  },
  {
   "cell_type": "code",
   "execution_count": null,
   "metadata": {},
   "outputs": [],
   "source": []
  }
 ],
 "metadata": {
  "kernelspec": {
   "display_name": "Python 3",
   "language": "python",
   "name": "python3"
  },
  "language_info": {
   "codemirror_mode": {
    "name": "ipython",
    "version": 3
   },
   "file_extension": ".py",
   "mimetype": "text/x-python",
   "name": "python",
   "nbconvert_exporter": "python",
   "pygments_lexer": "ipython3",
   "version": "3.6.3"
  }
 },
 "nbformat": 4,
 "nbformat_minor": 2
}
