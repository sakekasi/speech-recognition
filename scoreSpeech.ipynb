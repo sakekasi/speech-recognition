{
 "cells": [
  {
   "cell_type": "code",
   "execution_count": 11,
   "metadata": {},
   "outputs": [],
   "source": [
    "from os import listdir\n",
    "from os.path import isfile, join\n",
    "import pickle\n",
    "import argparse\n",
    "\n",
    "from hmmlearn import hmm\n",
    "\n",
    "from python_speech_features import mfcc\n",
    "import scipy.io.wavfile as wav\n",
    "import matplotlib.pyplot as plot\n",
    "import numpy"
   ]
  },
  {
   "cell_type": "code",
   "execution_count": 12,
   "metadata": {},
   "outputs": [
    {
     "name": "stdout",
     "output_type": "stream",
     "text": [
      "data/seven/0c2ca723_nohash_0.wav\n"
     ]
    }
   ],
   "source": [
    "datadir = 'seven'\n",
    "file = '0c2ca723_nohash_0.wav'\n",
    "\n",
    "filepath = 'data/' + datadir + '/' + file\n",
    "print(filepath)"
   ]
  },
  {
   "cell_type": "code",
   "execution_count": 13,
   "metadata": {},
   "outputs": [
    {
     "name": "stdout",
     "output_type": "stream",
     "text": [
      "[ 18.00829254 -47.54349046  12.85187728 -18.60232835   3.53096291\n",
      "  -8.6506295   -8.40422712  -5.14756812   4.79145331  -1.65349688\n",
      " -15.41020093  15.54437182 -10.06210818]\n"
     ]
    }
   ],
   "source": [
    "(rate, signal) = wav.read(filepath)\n",
    "features = mfcc(signal, rate, winfunc=numpy.hamming)\n",
    "print(features[0])"
   ]
  },
  {
   "cell_type": "code",
   "execution_count": 14,
   "metadata": {},
   "outputs": [
    {
     "name": "stdout",
     "output_type": "stream",
     "text": [
      "GaussianHMM(algorithm='viterbi', covariance_type='diag', covars_prior=0.01,\n",
      "      covars_weight=1, init_params='stmc', means_prior=0, means_weight=0,\n",
      "      min_covar=0.001, n_components=10, n_iter=10, params='stmc',\n",
      "      random_state=None, startprob_prior=1.0, tol=0.01, transmat_prior=1.0,\n",
      "      verbose=False)\n"
     ]
    }
   ],
   "source": [
    "ghmms = pickle.load(open('hmmset.p', 'rb'))\n",
    "print(ghmms['dog'])"
   ]
  },
  {
   "cell_type": "code",
   "execution_count": 15,
   "metadata": {},
   "outputs": [
    {
     "name": "stdout",
     "output_type": "stream",
     "text": [
      "model for dog:\n",
      "log odds:  -5809.71394903\n",
      "model for left:\n",
      "log odds:  -5529.21534903\n",
      "model for seven:\n",
      "log odds:  -5173.16500487\n"
     ]
    },
    {
     "name": "stderr",
     "output_type": "stream",
     "text": [
      "/Users/sakekasi/.local/share/virtualenvs/project-OtUbMzAR/lib/python3.6/site-packages/sklearn/utils/deprecation.py:77: DeprecationWarning: Function log_multivariate_normal_density is deprecated; The function log_multivariate_normal_density is deprecated in 0.18 and will be removed in 0.20.\n",
      "  warnings.warn(msg, category=DeprecationWarning)\n",
      "/Users/sakekasi/.local/share/virtualenvs/project-OtUbMzAR/lib/python3.6/site-packages/sklearn/utils/deprecation.py:77: DeprecationWarning: Function log_multivariate_normal_density is deprecated; The function log_multivariate_normal_density is deprecated in 0.18 and will be removed in 0.20.\n",
      "  warnings.warn(msg, category=DeprecationWarning)\n",
      "/Users/sakekasi/.local/share/virtualenvs/project-OtUbMzAR/lib/python3.6/site-packages/sklearn/utils/deprecation.py:77: DeprecationWarning: Function log_multivariate_normal_density is deprecated; The function log_multivariate_normal_density is deprecated in 0.18 and will be removed in 0.20.\n",
      "  warnings.warn(msg, category=DeprecationWarning)\n"
     ]
    }
   ],
   "source": [
    "for key in ghmms:\n",
    "    ghmm = ghmms[key]\n",
    "    print('model for ' + key + ':')\n",
    "    print('log odds: ', ghmms[key].score_samples(features)[0])"
   ]
  },
  {
   "cell_type": "code",
   "execution_count": null,
   "metadata": {},
   "outputs": [],
   "source": []
  }
 ],
 "metadata": {
  "kernelspec": {
   "display_name": "Python 3",
   "language": "python",
   "name": "python3"
  },
  "language_info": {
   "codemirror_mode": {
    "name": "ipython",
    "version": 3
   },
   "file_extension": ".py",
   "mimetype": "text/x-python",
   "name": "python",
   "nbconvert_exporter": "python",
   "pygments_lexer": "ipython3",
   "version": "3.6.3"
  }
 },
 "nbformat": 4,
 "nbformat_minor": 2
}
