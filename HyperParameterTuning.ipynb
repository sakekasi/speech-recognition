{
 "cells": [
  {
   "cell_type": "code",
   "execution_count": 4,
   "metadata": {},
   "outputs": [],
   "source": [
    "# coding: utf-8\n",
    "import warnings\n",
    "warnings.filterwarnings(\"ignore\")\n",
    "\n",
    "from learnSpeech import loadWordData, splitTrainingTestData, getTrainingData, trainModels, getTestData, scoreModels\n",
    "from skopt import gp_minimize"
   ]
  },
  {
   "cell_type": "code",
   "execution_count": 5,
   "metadata": {},
   "outputs": [],
   "source": [
    "def objective(params):\n",
    "  print(\"Testing with: \", params)\n",
    "  print(\"Loading word data.\")\n",
    "  wordData = loadWordData()\n",
    "  print(\"Splitting training and test data.\")\n",
    "  trainTestData = splitTrainingTestData(wordData)  \n",
    "  print(\"Getting training data.\")\n",
    "  trainingData, lengths = getTrainingData(trainTestData)\n",
    "  print(\"Training models with: \", params)\n",
    "  ghmms = trainModels(trainingData, lengths, params)\n",
    "  print(\"Scoring models.\")\n",
    "  testData = getTestData(trainTestData)\n",
    "  modelScore = scoreModels(testData)\n",
    "  print(\"Model: \", params, \", scored: \", modelScore)\n",
    "  return modelScore\n",
    "\n",
    "space = [\n",
    "            [1, 5, 10, 25], # n_components\n",
    "            [2, 5, 7, 10, 25], # n_iter\n",
    "            [1, 2, 5, 10] # n_mix\n",
    "        ]"
   ]
  },
  {
   "cell_type": "code",
   "execution_count": null,
   "metadata": {},
   "outputs": [
    {
     "name": "stdout",
     "output_type": "stream",
     "text": [
      "Iteration No: 1 started. Evaluating function at random point.\n",
      "Testing with:  [10, 10, 5]\n",
      "Loading word data.\n",
      "Splitting training and test data.\n",
      "Getting training data.\n",
      "Training models with:  [10, 10, 5]\n"
     ]
    }
   ],
   "source": [
    "\n",
    "res_gp = gp_minimize(objective, space, n_calls=15, random_state=0, n_jobs=-1, verbose=True)\n",
    "print(\"Best score=%.4f\" % res_gp.fun)\n",
    "print(\"\"\"Best parameters:\n",
    "- n_components=%d\n",
    "- n_iter=%d\"\"\" % (res_gp.x[0], res_gp.x[1]))"
   ]
  },
  {
   "cell_type": "code",
   "execution_count": null,
   "metadata": {},
   "outputs": [],
   "source": []
  },
  {
   "cell_type": "code",
   "execution_count": null,
   "metadata": {},
   "outputs": [],
   "source": []
  }
 ],
 "metadata": {
  "kernelspec": {
   "display_name": "Python 3",
   "language": "python",
   "name": "python3"
  },
  "language_info": {
   "codemirror_mode": {
    "name": "ipython",
    "version": 3
   },
   "file_extension": ".py",
   "mimetype": "text/x-python",
   "name": "python",
   "nbconvert_exporter": "python",
   "pygments_lexer": "ipython3",
   "version": "3.6.3"
  }
 },
 "nbformat": 4,
 "nbformat_minor": 2
}
